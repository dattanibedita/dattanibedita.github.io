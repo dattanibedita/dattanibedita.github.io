{
 "cells": [
  {
   "cell_type": "markdown",
   "metadata": {},
   "source": [
    "In this short case-study, I am extracting all the links present in a web-article.\n",
    "\n",
    "If you have know about curiosity.com, you know that they post articles based on scientific-research findings.\n",
    "\n",
    "These articles are well-researched and hence, have multiple sources.\n",
    "\n",
    "I am extracting all the links present in a curiosity.com article to check what are the sources for that article.\n",
    "\n",
    "I will be using BeautifulSoup for this project. We need to install the package and import it from bs4."
   ]
  },
  {
   "cell_type": "code",
   "execution_count": 26,
   "metadata": {},
   "outputs": [],
   "source": [
    "from bs4 import BeautifulSoup"
   ]
  },
  {
   "cell_type": "markdown",
   "metadata": {},
   "source": [
    "According to the Beautifulsoup documentation, Beautiful Soup is a Python library for pulling data out of HTML and XML files. It works with your favorite parser to provide idiomatic ways of navigating, searching, and modifying the parse tree. It commonly saves programmers hours or days of work."
   ]
  },
  {
   "cell_type": "markdown",
   "metadata": {},
   "source": [
    "We also import the packages urllib and re as we will be extracting a webpage. The re package is for regular expressions.\n",
    "\n",
    "According to documentation, a regular expression (or RE) specifies a set of strings that matches it; the functions in this module let you check if a particular string matches a given regular expression (or if a given regular expression matches a particular string, which comes down to the same thing).\n"
   ]
  },
  {
   "cell_type": "code",
   "execution_count": 27,
   "metadata": {},
   "outputs": [],
   "source": [
    "import urllib\n",
    "import re"
   ]
  },
  {
   "cell_type": "markdown",
   "metadata": {},
   "source": [
    "We would be scraping a webpage from curiosity.com. Before we extract the links from the page, let us have a look at the original webpage.\n",
    "\n",
    "For this, we will be using the package Heimdall. We have installed it on our system."
   ]
  },
  {
   "cell_type": "code",
   "execution_count": 20,
   "metadata": {},
   "outputs": [
    {
     "data": {
      "text/html": [
       "<iframe src=https://curiosity.com/topics/scientists-stimulated-mouse-neurons-to-make-them-see-things-that-werent-there-curiosity/ width=700 height=350></iframe>"
      ],
      "text/plain": [
       "<IPython.core.display.HTML object>"
      ]
     },
     "execution_count": 20,
     "metadata": {},
     "output_type": "execute_result"
    }
   ],
   "source": [
    "import IPython\n",
    "url = 'https://curiosity.com/topics/scientists-stimulated-mouse-neurons-to-make-them-see-things-that-werent-there-curiosity/'\n",
    "iframe = '<iframe src=' + url + ' width=700 height=350></iframe>'\n",
    "IPython.display.HTML(iframe)"
   ]
  },
  {
   "cell_type": "markdown",
   "metadata": {},
   "source": [
    "This is an article about how scientists simulated mouse neurons to make them see things that were not there. We will be seeing all the links present in this webpage. For that, we first get the list of links, without any formatting."
   ]
  },
  {
   "cell_type": "code",
   "execution_count": 30,
   "metadata": {},
   "outputs": [],
   "source": [
    "r = urllib.request.urlopen('https://curiosity.com/topics/scientists-stimulated-mouse-neurons-to-make-them-see-things-that-werent-there-curiosity/').read()"
   ]
  },
  {
   "cell_type": "code",
   "execution_count": 32,
   "metadata": {},
   "outputs": [
    {
     "data": {
      "text/plain": [
       "bs4.BeautifulSoup"
      ]
     },
     "execution_count": 32,
     "metadata": {},
     "output_type": "execute_result"
    }
   ],
   "source": [
    "soup = BeautifulSoup(r,'lxml')\n",
    "type(soup)"
   ]
  },
  {
   "cell_type": "code",
   "execution_count": 33,
   "metadata": {},
   "outputs": [
    {
     "name": "stdout",
     "output_type": "stream",
     "text": [
      "<!DOCTYPE html>\n",
      "<html class=\"no-js\" prefix=\"og: http://ogp.me/ns#\">\n",
      " <head>\n",
      "  <meta content=\"IE=edge,chrome=1\" http-equiv=\"X-UA-Compatible\"/>\n",
      "  <meta content=\"zl4BG-LpD7hmu231ATIq_ia4QrP2no6Xqd2j9kGepOs\" name=\"google-site-verification\"/>\n",
      "  <title>\n",
      "   Scientists Stimulated Mouse Neurons to Make Them See Things That Weren't There\n",
      "  </title>\n",
      "  <!-- META -->\n",
      "  <meta charset=\"utf-8\"/>\n",
      "  <meta content=\"\n",
      "    When you look at a flower, a particular set of neurons, or brain cells, fire in your brain's visual cortex. But what if you could bypass the flower and just activate those neurons artificially? Would you still see a flower? According to research published last month in the journal Science, the answer is a preliminary &quot;maybe.&quot; Stanford scientists made mice see patterns — or at least act like they saw patterns — that weren't there, just by activating the neurons responsible. \n",
      "\" name=\"description\"/>\n",
      "  <meta content=\"width=device-width, initial-scale=1.0, maximum-scale=1.0, user-sca\n"
     ]
    }
   ],
   "source": [
    "print(soup.prettify()[0:1000])"
   ]
  },
  {
   "cell_type": "code",
   "execution_count": 34,
   "metadata": {},
   "outputs": [
    {
     "name": "stdout",
     "output_type": "stream",
     "text": [
      "https://chrome.google.com/webstore/detail/lfgogjeffbicjdjbjmnopokneomjdjig\n",
      "/\n",
      "#\n",
      "/trending/\n",
      "/email/\n",
      "https://about.curiosity.com/podcast\n",
      "#\n",
      "/\n",
      "/subjects/offbeat-adventure/topics/\n",
      "/subjects/amazing-places/topics/\n",
      "/subjects/health/topics/\n",
      "/subjects/personal-growth/topics/\n",
      "/subjects/puzzle/topics/\n",
      "/subjects/science-technology/topics/\n",
      "/subjects/\n",
      "#\n",
      "/trending/\n",
      "/email/\n",
      "/series/podcast\n",
      "#\n",
      "/auth/facebook/connect\n",
      "/auth/google/connect\n",
      "/auth/twitter/connect\n",
      "#register\n",
      "#login\n",
      "/auth/forgot-password\n",
      "/terms\n",
      "/privacy\n",
      "#\n",
      "#\n",
      "/subjects/offbeat-adventure/topics/\n",
      "/subjects/amazing-places/topics/\n",
      "/subjects/health/topics/\n",
      "/subjects/personal-growth/topics/\n",
      "/subjects/puzzle/topics/\n",
      "/subjects/science-technology/topics/\n",
      "/subjects/\n",
      "#\n",
      "https://itunes.apple.com/app/apple-store/id1000848816?pt=117495156&ct=applandingdesktop&mt=8\n",
      "https://play.google.com/store/apps/details?id=com.curiosity.dailycuriosity&referrer=utm_source%3Dcuriosity%26utm_medium%3Ddesktopapp%26utm_campaign%3Dlandinglogo\n",
      "https://about.curiosity.com/podcast\n",
      "/email/\n",
      "https://shop.curiosity.com\n",
      "/bots/\n",
      "https://chrome.google.com/webstore/detail/lfgogjeffbicjdjbjmnopokneomjdjig\n",
      "https://www.facebook.com/curiositydotcom/\n",
      "https://twitter.com/curiositydotcom/\n",
      "https://instagram.com/curiositydotcom/\n",
      "https://www.pinterest.com/curiositydotcom/\n",
      "https://flipboard.com/@curiositycom/curiosity.com-gr871t38z\n",
      "https://about.curiosity.com/\n",
      "https://about.curiosity.com/contact/\n",
      "https://about.curiosity.com/press/\n",
      "http://www.builtinchicago.org/company/wwwcuriositycom\n",
      "https://about.curiosity.com/company/\n",
      "https://blog.curiosity.com\n",
      "/providers/\n",
      "https://about.curiosity.com/advertisers/\n",
      "/privacy/\n",
      "/terms/\n",
      "/subjects/health/topics/\n",
      "#\n",
      "#\n",
      "#\n",
      "#\n",
      "#\n",
      "https://science.sciencemag.org/content/early/2019/07/17/science.aaw5202.full\n",
      "https://www.scientificamerican.com/article/optogenetics-controlling/\n",
      "https://science.sciencemag.org/content/365/6450/209\n",
      "https://sites.evergreen.edu/vms/tiarina-fusus-bf/\n",
      "http://med.stanford.edu/news/all-news/2019/07/stanford-team-stimulates-neurons-to-induce-particular-perception.html\n",
      "http://med.stanford.edu/news/all-news/2019/07/stanford-team-stimulates-neurons-to-induce-particular-perception.html\n",
      "https://curiosity.im/emailsignupsite\n",
      "https://omny.fm/shows/curiosity-podcast\n",
      "https://www.amazon.com/Future-Humanity-Terraforming-Interstellar-Immortality/dp/0385542763/ref=sr_1_2?crid=3NQGCFOMFOVDS&keywords=future+of+humanity&qid=1564789374&s=books&sprefix=future+of+humanity%2Caps%2C276&sr=1-2&tag=curiositydotc-20\n",
      "/topics/your-mind-wanders-half-the-time-youre-awake-curiosity/\n",
      "/topics/different-types-of-meditation-do-different-things-to-your-brain-curiosity/\n",
      "/subjects/neuroscience/topics/\n",
      "/subjects/visual-perception/topics/\n",
      "/privacy/\n",
      "/terms/\n",
      "#\n"
     ]
    }
   ],
   "source": [
    "for link in soup.find_all('a'): print(link.get('href'))"
   ]
  },
  {
   "cell_type": "markdown",
   "metadata": {},
   "source": [
    "This list has a lot of internal links like login, about page etc. We would like to see only the pages that start with 'http' so that we can directly go to the webpages. We run the following command and arrive at the fonal list of links."
   ]
  },
  {
   "cell_type": "code",
   "execution_count": 35,
   "metadata": {},
   "outputs": [
    {
     "name": "stdout",
     "output_type": "stream",
     "text": [
      "https://chrome.google.com/webstore/detail/lfgogjeffbicjdjbjmnopokneomjdjig\n",
      "https://about.curiosity.com/podcast\n",
      "https://itunes.apple.com/app/apple-store/id1000848816?pt=117495156&ct=applandingdesktop&mt=8\n",
      "https://play.google.com/store/apps/details?id=com.curiosity.dailycuriosity&referrer=utm_source%3Dcuriosity%26utm_medium%3Ddesktopapp%26utm_campaign%3Dlandinglogo\n",
      "https://about.curiosity.com/podcast\n",
      "https://shop.curiosity.com\n",
      "https://chrome.google.com/webstore/detail/lfgogjeffbicjdjbjmnopokneomjdjig\n",
      "https://www.facebook.com/curiositydotcom/\n",
      "https://twitter.com/curiositydotcom/\n",
      "https://instagram.com/curiositydotcom/\n",
      "https://www.pinterest.com/curiositydotcom/\n",
      "https://flipboard.com/@curiositycom/curiosity.com-gr871t38z\n",
      "https://about.curiosity.com/\n",
      "https://about.curiosity.com/contact/\n",
      "https://about.curiosity.com/press/\n",
      "http://www.builtinchicago.org/company/wwwcuriositycom\n",
      "https://about.curiosity.com/company/\n",
      "https://blog.curiosity.com\n",
      "https://about.curiosity.com/advertisers/\n",
      "https://science.sciencemag.org/content/early/2019/07/17/science.aaw5202.full\n",
      "https://www.scientificamerican.com/article/optogenetics-controlling/\n",
      "https://science.sciencemag.org/content/365/6450/209\n",
      "https://sites.evergreen.edu/vms/tiarina-fusus-bf/\n",
      "http://med.stanford.edu/news/all-news/2019/07/stanford-team-stimulates-neurons-to-induce-particular-perception.html\n",
      "http://med.stanford.edu/news/all-news/2019/07/stanford-team-stimulates-neurons-to-induce-particular-perception.html\n",
      "https://curiosity.im/emailsignupsite\n",
      "https://omny.fm/shows/curiosity-podcast\n",
      "https://www.amazon.com/Future-Humanity-Terraforming-Interstellar-Immortality/dp/0385542763/ref=sr_1_2?crid=3NQGCFOMFOVDS&keywords=future+of+humanity&qid=1564789374&s=books&sprefix=future+of+humanity%2Caps%2C276&sr=1-2&tag=curiositydotc-20\n"
     ]
    }
   ],
   "source": [
    "for link in soup.find_all('a', href=True):\n",
    "    if link['href'].startswith(\"http\"):\n",
    "        print(link['href'])"
   ]
  },
  {
   "cell_type": "markdown",
   "metadata": {},
   "source": [
    "Those are all the clickable links we found in this curiosity article. Let me know your feedback about this, or if you would like to discuss anything.\n",
    "\n",
    "You can check out my other projects on the menu bar on top-left."
   ]
  }
 ],
 "metadata": {
  "kernelspec": {
   "display_name": "Python 3",
   "language": "python",
   "name": "python3"
  },
  "language_info": {
   "codemirror_mode": {
    "name": "ipython",
    "version": 3
   },
   "file_extension": ".py",
   "mimetype": "text/x-python",
   "name": "python",
   "nbconvert_exporter": "python",
   "pygments_lexer": "ipython3",
   "version": "3.6.8"
  }
 },
 "nbformat": 4,
 "nbformat_minor": 2
}
